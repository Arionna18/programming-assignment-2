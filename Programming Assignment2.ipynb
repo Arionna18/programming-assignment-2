{
 "cells": [
  {
   "cell_type": "code",
   "execution_count": 5,
   "id": "a246efd9-ffbc-4785-a428-9679a1a7a857",
   "metadata": {},
   "outputs": [
    {
     "name": "stdout",
     "output_type": "stream",
     "text": [
      "After capitalizing 'cinderella': ['mozzarella', 'Cinderella', 'salmonella']\n",
      "After converting 'mozzarella' to uppercase: ['MOZZARELLA', 'Cinderella', 'salmonella']\n",
      "After removing 'salmonella': ['MOZZARELLA', 'Cinderella']\n"
     ]
    }
   ],
   "source": [
    "#7.4\n",
    "things = [\"mozzarella\", \"cinderella\", \"salmonella\"]\n",
    "\n",
    "#7.5\n",
    "things[1] = things[1].capitalize()\n",
    "print(\"After capitalizing 'cinderella':\", things)\n",
    "\n",
    "#7.6 \n",
    "things[0] = things[0].upper()\n",
    "print(\"After converting 'mozzarella' to uppercase:\", things)\n",
    "\n",
    "#7.7 \n",
    "things.remove(\"salmonella\")\n",
    "print(\"After removing 'salmonella':\", things)"
   ]
  },
  {
   "cell_type": "code",
   "execution_count": 11,
   "id": "cc7c0e06-d98c-4b91-a8a1-8558b146c6d1",
   "metadata": {},
   "outputs": [],
   "source": [
    "#9.1\n",
    "def good():\n",
    "    list_1 = ['Harry', 'Ron', 'Hermione']\n",
    "    return list_1"
   ]
  },
  {
   "cell_type": "code",
   "execution_count": 16,
   "id": "c4478d1b-09ea-48ba-a5a2-791f485e16ad",
   "metadata": {},
   "outputs": [
    {
     "name": "stdout",
     "output_type": "stream",
     "text": [
      "5\n"
     ]
    }
   ],
   "source": [
    "#9.2\n",
    "def get_odds():\n",
    "    for num in range(10):\n",
    "        if num % 2 !=0:\n",
    "            yield num\n",
    "count = 0\n",
    "for num in get_odds():\n",
    "    if count == 2:\n",
    "        print(num)\n",
    "        break\n",
    "    count += 1"
   ]
  },
  {
   "cell_type": "code",
   "execution_count": null,
   "id": "a845090c-ceec-4ada-a146-b4f7d9303181",
   "metadata": {},
   "outputs": [],
   "source": []
  }
 ],
 "metadata": {
  "kernelspec": {
   "display_name": "Python 3 (ipykernel)",
   "language": "python",
   "name": "python3"
  },
  "language_info": {
   "codemirror_mode": {
    "name": "ipython",
    "version": 3
   },
   "file_extension": ".py",
   "mimetype": "text/x-python",
   "name": "python",
   "nbconvert_exporter": "python",
   "pygments_lexer": "ipython3",
   "version": "3.12.4"
  }
 },
 "nbformat": 4,
 "nbformat_minor": 5
}
